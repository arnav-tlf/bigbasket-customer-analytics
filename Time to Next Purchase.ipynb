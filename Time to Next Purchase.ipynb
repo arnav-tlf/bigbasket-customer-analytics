{
 "cells": [
  {
   "cell_type": "code",
   "execution_count": 1,
   "metadata": {},
   "outputs": [],
   "source": [
    "# General library imports\n",
    "#!pip install apyori \n",
    "from apyori import apriori \n",
    "import pandas as pd\n",
    "import numpy as np\n",
    "from functools import reduce\n",
    "from datetime import date, datetime\n",
    "from dateutil.relativedelta import relativedelta\n",
    "from dateutil import relativedelta\n",
    "import multiprocessing as mp\n",
    "from itertools import combinations, groupby\n",
    "from collections import Counter\n",
    "from operator import itemgetter\n",
    "import pickle\n",
    "from sklearn.metrics.pairwise import cosine_similarity,euclidean_distances, pairwise_distances\n",
    "from sklearn.decomposition import NMF\n",
    "from statsmodels.tsa.holtwinters import ExponentialSmoothing as ES\n",
    "from itertools import product \n",
    "from multiprocessing import cpu_count\n",
    "from joblib import Parallel\n",
    "from joblib import delayed\n",
    "from sklearn.model_selection import ParameterGrid\n",
    "from sklearn.preprocessing import OneHotEncoder\n",
    "import sys\n",
    "\n",
    "# Graphing imports \n",
    "import matplotlib.pyplot as plt\n",
    "import seaborn as sns\n",
    "\n",
    "# Custom functions import \n",
    "sys.path.append('..') # Adding src directory to path \n",
    "from src.forecasting import *\n",
    "\n",
    "import warnings\n",
    "warnings.filterwarnings(\"ignore\")\n",
    "%matplotlib inline\n",
    "\n",
    "# Graphing imports \n",
    "import matplotlib.pyplot as plt\n",
    "import seaborn as sns\n",
    "\n",
    "# Pandas options\n",
    "pd.set_option('display.max_rows', 110)\n",
    "pd.set_option('display.max_columns', None)\n",
    "\n",
    "%load_ext autoreload\n",
    "%autoreload 2\n"
   ]
  },
  {
   "cell_type": "code",
   "execution_count": 2,
   "metadata": {},
   "outputs": [],
   "source": [
    "recall_fn = lambda x, recc_col, actual_col: x[(~x[actual_col].isna())&(~x[recc_col].isna())].shape[0]/x[~x[actual_col].isna()].shape[0]\n",
    "precision_fn = lambda x, recc_col, actual_col: x[(~x[actual_col].isna())&(~x[recc_col].isna())].shape[0]/x[~x[recc_col].isna()].shape[0]\n",
    "\n",
    "\n",
    "def get_slope_func(x,y,order=1):\n",
    "    #print(x)\n",
    "    try:\n",
    "        coeffs = np.polyfit(np.array(x), np.array(y), order)\n",
    "        slope = coeffs[-1]\n",
    "        return float(slope)\n",
    "    except:\n",
    "        return np.nan\n",
    "\n",
    "def create_recency_vars(df,var_name, grouping_cols=None,date_col=None,lookback_period = 5):\n",
    "    df = df.sort_values(grouping_cols + [date_col])\n",
    "    for i in range(1,lookback_period+1):\n",
    "        df[f'L{i}_{var_name}'] = df.groupby(grouping_cols)\\\n",
    "            [var_name].shift(i)\n",
    "        \n",
    "    df[f'L12_{var_name}'] = df.groupby(grouping_cols)\\\n",
    "        [var_name].shift(12)\n",
    "    # Avg TDP\n",
    "    add_cols = [f'L{i}_{var_name}' for i in  range(1,lookback_period+1)]\n",
    "    tdps = df[add_cols].values\n",
    "    df[f'avg_{var_name}'] =np.nansum(tdps,axis=1)/(lookback_period-np.sum(np.isnan(tdps),axis=1))\n",
    "    return df\n",
    "\n",
    "mode = lambda lst: Counter(lst).most_common()[0][0]"
   ]
  },
  {
   "cell_type": "code",
   "execution_count": 3,
   "metadata": {},
   "outputs": [],
   "source": [
    "# Read in the data \n",
    "data = pd.read_csv('DATA/CA at Big Basket Data.csv')"
   ]
  },
  {
   "cell_type": "code",
   "execution_count": 4,
   "metadata": {},
   "outputs": [],
   "source": [
    "# The timestamp is in the format of YYYY-MM-dd HH:MM:SS. \n",
    "# Convert it from string to datetime, and create a new field truncating it to a date level. \n",
    "# Get max date for each customer \n",
    "data['Created On'] = pd.to_datetime(data['Created On'])\n",
    "data['Date'] = data['Created On'].apply(lambda x: x.date())\n",
    "data['max_date'] = data.groupby('Member')['Created On'].transform('max')"
   ]
  },
  {
   "cell_type": "code",
   "execution_count": 5,
   "metadata": {},
   "outputs": [
    {
     "data": {
      "text/plain": [
       "False    61261\n",
       "True       880\n",
       "Name: test, dtype: int64"
      ]
     },
     "execution_count": 5,
     "metadata": {},
     "output_type": "execute_result"
    }
   ],
   "source": [
    "# We will take the latest transaction by the consumer as a test case and see how well we are able to predict for either\n",
    "data['test'] = data['max_date']==data['Created On']\n",
    "data['test'].value_counts()"
   ]
  },
  {
   "cell_type": "code",
   "execution_count": 6,
   "metadata": {},
   "outputs": [
    {
     "name": "stdout",
     "output_type": "stream",
     "text": [
      "Unique customers in data : 106\n"
     ]
    }
   ],
   "source": [
    "print(f'Unique customers in data : {data[\"Member\"].nunique()}')"
   ]
  },
  {
   "cell_type": "markdown",
   "metadata": {},
   "source": [
    "### Let's extract 3 features \n",
    "    1) Time between purchases\n",
    "    2) No of products in basket \n",
    "    3) No. of products in basket that were in last basket 3 baskets\n",
    "    4) If most common sku (up to that point) was present in the last order "
   ]
  },
  {
   "cell_type": "code",
   "execution_count": 7,
   "metadata": {},
   "outputs": [],
   "source": [
    "order_stat_lst = []\n",
    "for idx, grp in data.groupby('Member'):\n",
    "    \n",
    "    # Time to last purchase and skus per basket\n",
    "    grp_smry = grp.groupby(['Member','Created On','Date'])['SKU'].nunique().reset_index(drop=False)\n",
    "    grp_smry = grp_smry.sort_values(by = ['Created On'])\n",
    "    grp_smry['prev_date'] = grp_smry['Date'].shift(1)\n",
    "    grp_smry.loc[~grp_smry['prev_date'].isna(),'time_last_purchase']  = grp_smry[~grp_smry['prev_date'].isna()].apply(lambda x: (x['Date'] - x['prev_date']).days,axis=1)\n",
    "\n",
    "    # SKU coverage in prev 3 baskets \n",
    "    grp_smry_prods = grp.groupby(['Member','Created On','Date']).agg({'SKU':'unique','Description':'unique'}).reset_index(drop=False)\n",
    "    grp_smry_prods = grp_smry_prods.sort_values(by = ['Created On'])\n",
    "    \n",
    "    \n",
    "    # Combine the last n baskets into a single array\n",
    "    \n",
    "    # For SKUs\n",
    "    combined_sku_baskets = []\n",
    "    for rolling_grp in grp_smry_prods.groupby('Member')['SKU'].rolling(3,min_periods=1):\n",
    "        combined_sku_baskets.append(list(set([x for row in rolling_grp for x in row])))\n",
    "        \n",
    "    # For Descrption \n",
    "    combined_category_baskets = []\n",
    "    for rolling_grp in grp_smry_prods.groupby('Member')['Description'].rolling(3,min_periods=1):\n",
    "        combined_category_baskets.append(list(set([x for row in rolling_grp for x in row])))\n",
    "    \n",
    "    # Add the series to the df\n",
    "    grp_smry_prods['prev_order']  = pd.Series(combined_sku_baskets)\n",
    "    grp_smry_prods['prev_order_cat'] = pd.Series(combined_category_baskets)\n",
    "    \n",
    "    # Count of SKUs in previou order \n",
    "    grp_smry_prods['last_order']  = grp_smry_prods['SKU'].shift(1)\n",
    "    grp_smry_prods.loc[~grp_smry_prods['last_order'].isna(), 'no_skus_prev_order'] = grp_smry_prods.loc[~grp_smry_prods['last_order'].isna(),'last_order'].apply(lambda x: len(x))\n",
    "    # grp_smry_prods['prev_order_cat']  = grp_smry_prods['Description'].shift(1)\n",
    "    \n",
    "    # Check the coverage of order with respect to the previous 3. \n",
    "    # **We then shift this series forward in order to avoid leakage**\n",
    "    grp_smry_prods.loc[~grp_smry_prods['prev_order'].isna(),'in_prev_order_pcent'] = grp_smry_prods[~grp_smry_prods['prev_order'].isna()].apply(lambda x: sum([1 for _sku in x['SKU'] if _sku in x['prev_order']])/len(x['SKU']),axis=1)\n",
    "    grp_smry_prods.loc[~grp_smry_prods['prev_order_cat'].isna(),'in_prev_order_cat_pcent'] = grp_smry_prods[~grp_smry_prods['prev_order_cat'].isna()].apply(lambda x: sum([1 for _sku in x['Description'] if _sku in x['prev_order_cat']])/len(x['Description']),axis=1)\n",
    "    \n",
    "    # We shfit this series, as the SKU of the current purchase would not be available prior to time of prediction \n",
    "    grp_smry_prods['in_prev_order_pcent'] = grp_smry_prods['in_prev_order_pcent'].shift(1)\n",
    "    grp_smry_prods['prev_order_cat'] = grp_smry_prods['prev_order_cat'].shift(1)\n",
    "   \n",
    "    # We check if in the last order the most common sku purchased upto that point were present \n",
    "    # The hypothesis here is that if the user forgot to add their most common sku, they are more likely to make a quick, repeat purchase \n",
    "    sku_in_last_order = []\n",
    "    for rolling_grp in grp_smry_prods.groupby('Member').rolling(grp_smry_prods.shape[0],min_periods=1):\n",
    "        rolling_grp = rolling_grp.reset_index(drop=False)\n",
    "        all_prior_orders = rolling_grp['prev_order'].tolist()\n",
    "        last_order = all_prior_orders[-1]\n",
    "        prior_orders = all_prior_orders[:-1]\n",
    "        if len(prior_orders) == 0:\n",
    "            sku_in_last_order.append(0)\n",
    "        else:\n",
    "            most_common_order = Counter([x for row in prior_orders for x in row]).most_common()[0][0]\n",
    "            sku_in_last_order.append(1 if most_common_order in last_order else 0)\n",
    "            \n",
    "    # Append to the main df\n",
    "    grp_smry_prods['most_common_sku_in_prev_order'] = sku_in_last_order\n",
    "\n",
    "    # Combining \n",
    "    try:\n",
    "        grp_smry_stats = grp_smry.merge(grp_smry_prods[['Member','Created On','Date','in_prev_order_pcent','in_prev_order_cat_pcent','no_skus_prev_order','most_common_sku_in_prev_order']], \\\n",
    "                                        on = ['Member','Created On','Date'], how='left')\n",
    "    except:\n",
    "        grp_smry_prods['Date'] = grp_smry_prods['Date'].apply(lambda x: x.date())\n",
    "        grp_smry_stats = grp_smry.merge(grp_smry_prods[['Member','Created On','Date','in_prev_order_pcent','in_prev_order_cat_pcent','no_skus_prev_order','most_common_sku_in_prev_order']], \\\n",
    "                                        on = ['Member','Created On','Date'], how='left')\n",
    "    \n",
    "    # To use these values as features in a time series model, we will need to lag/create slope features, etc. \n",
    "    grp_smry_stats = create_recency_vars(grp_smry_stats.copy(deep=True),\"SKU\", grouping_cols=['Member'],date_col='Created On')\n",
    "    grp_smry_stats = create_recency_vars(grp_smry_stats.copy(deep=True),\"in_prev_order_pcent\", grouping_cols=['Member'],date_col='Created On')\n",
    "    grp_smry_stats = create_recency_vars(grp_smry_stats.copy(deep=True),\"in_prev_order_cat_pcent\", grouping_cols=['Member'],date_col='Created On')\n",
    "    grp_smry_stats = create_recency_vars(grp_smry_stats.copy(deep=True),\"time_last_purchase\", grouping_cols=['Member'],date_col='Created On') \n",
    "    \n",
    "    # Did the recent order contain fewer products than the running avg? \n",
    "    grp_smry_stats['small_prev_basket'] = grp_smry_stats['no_skus_prev_order'] < grp_smry_stats['avg_SKU']\n",
    "    \n",
    "\n",
    "    # Create slope feature \n",
    "    # Note: put this in a function\n",
    "    grp_smry_stats.sort_values(by = ['Member','Created On'], inplace=True)\n",
    "    grp_smry_stats['rn'] = grp_smry_stats.groupby('Member').cumcount() + 1\n",
    "    grp_smry_stats.loc[~grp_smry_stats['L1_time_last_purchase'].isna(),'time_last_purchase_slope'] = grp_smry_stats[~grp_smry_stats['L1_time_last_purchase'].isna()]\\\n",
    "        .apply(lambda row: get_slope_func(\\\n",
    "        grp_smry_stats.loc[(grp_smry_stats['rn']>=row['rn'])&(grp_smry_stats['rn']<row['rn']+10),'L1_time_last_purchase'],\\\n",
    "        list(range(1,grp_smry_stats.loc[(grp_smry_stats['rn']>=row['rn'])&(grp_smry_stats['rn']<row['rn']+10),'L1_time_last_purchase'].shape[0]+1))\\\n",
    "                                             ),axis=1)\n",
    "    \n",
    "    # Create a running mode of customer time between orders \n",
    "    # We ensure no leakage \n",
    "    running_mode = []\n",
    "    for rolling_grp in grp_smry_stats.groupby('Member')['time_last_purchase'].rolling(grp_smry_prods.shape[0],min_periods=1):\n",
    "        if len(rolling_grp.tolist()[1:-1])>0:\n",
    "            running_mode.append(mode(rolling_grp.tolist()[1:-1]))\n",
    "        else:\n",
    "            running_mode.append(np.nan)\n",
    "            \n",
    "    grp_smry_stats['time_between_orders_mode'] = running_mode \n",
    "    \n",
    "    order_stat_lst.append(grp_smry_stats)\n",
    "    \n",
    "order_stat_df = pd.concat(order_stat_lst, axis=0)\n",
    "\n",
    "assert data[['Member','Created On']].drop_duplicates().shape[0] == order_stat_df.shape[0], \"Cust-Order combinations have been missed out\""
   ]
  },
  {
   "cell_type": "code",
   "execution_count": 8,
   "metadata": {},
   "outputs": [],
   "source": [
    "order_stat_df = order_stat_df.merge(data[['Member','Created On','test']].drop_duplicates(), on = ['Member','Created On'],how='left')"
   ]
  },
  {
   "cell_type": "code",
   "execution_count": 9,
   "metadata": {},
   "outputs": [],
   "source": [
    "# Remove obs with missing 'time_last_purchase'\n",
    "order_stat_df = order_stat_df[~order_stat_df['time_last_purchase'].isna()]"
   ]
  },
  {
   "cell_type": "code",
   "execution_count": 10,
   "metadata": {},
   "outputs": [
    {
     "data": {
      "text/plain": [
       "(8175, 106)"
      ]
     },
     "execution_count": 10,
     "metadata": {},
     "output_type": "execute_result"
    }
   ],
   "source": [
    "# We divide the data into train and test. \n",
    "train = order_stat_df[order_stat_df['test']==False]\n",
    "test = order_stat_df[order_stat_df['test']==True]\n",
    "train.shape[0], test.shape[0]"
   ]
  },
  {
   "cell_type": "code",
   "execution_count": 11,
   "metadata": {},
   "outputs": [
    {
     "name": "stdout",
     "output_type": "stream",
     "text": [
      "count    8069.000000\n",
      "mean        7.913248\n",
      "std        12.609251\n",
      "min         0.000000\n",
      "25%         5.000000\n",
      "50%         7.000000\n",
      "75%         8.000000\n",
      "max       426.000000\n",
      "Name: time_between_orders_mode, dtype: float64\n"
     ]
    },
    {
     "data": {
      "text/plain": [
       "array([15., 31., 55.])"
      ]
     },
     "execution_count": 11,
     "metadata": {},
     "output_type": "execute_result"
    }
   ],
   "source": [
    "# Outliers in features: 'time_between_orders_mode'\n",
    "print(train['time_between_orders_mode'].describe())\n",
    "\n",
    "np.quantile(train.loc[(~train['time_between_orders_mode'].isna()),'time_between_orders_mode'],q=[0.95,0.99,0.995])"
   ]
  },
  {
   "cell_type": "code",
   "execution_count": 12,
   "metadata": {},
   "outputs": [
    {
     "data": {
      "text/plain": [
       "<AxesSubplot:xlabel='time_between_orders_mode', ylabel='Count'>"
      ]
     },
     "execution_count": 12,
     "metadata": {},
     "output_type": "execute_result"
    },
    {
     "data": {
      "image/png": "[encoded data removed]",
      "text/plain": [
       "<Figure size 432x288 with 1 Axes>"
      ]
     },
     "metadata": {
      "needs_background": "light"
     },
     "output_type": "display_data"
    }
   ],
   "source": [
    "outlier_cap = 31 #99th percentile\n",
    "sns.histplot(train[(~train['time_between_orders_mode'].isna())&(train['time_between_orders_mode']<outlier_cap)],x='time_between_orders_mode')"
   ]
  },
  {
   "cell_type": "code",
   "execution_count": 13,
   "metadata": {},
   "outputs": [
    {
     "name": "stdout",
     "output_type": "stream",
     "text": [
      "weekly_cust           4382\n",
      "others                2796\n",
      "high_velocity_cust     518\n",
      "regular_cust           295\n",
      "outliers                78\n",
      "Name: time_between_orders_mode_bins, dtype: int64 weekly_cust           62\n",
      "others                33\n",
      "regular_cust           8\n",
      "high_velocity_cust     3\n",
      "Name: time_between_orders_mode_bins, dtype: int64\n"
     ]
    }
   ],
   "source": [
    "# We bin the customers according to their recent behavior\n",
    "# For a majority of the time, we see that customers purchase with a recent mode around 7: Weekly customers\n",
    "# For those who purchase at a mode of <2 -> forgetful/high velocity customers\n",
    "def mode_bins(x):\n",
    "    if x<3:\n",
    "        return \"high_velocity_cust\"\n",
    "    elif (x > 5) & (x < 9):\n",
    "        return \"weekly_cust\"\n",
    "    elif (x > 13) & ( x < 17):\n",
    "        return \"regular_cust\"\n",
    "    elif (x > 25) & ( x < 33):\n",
    "        return \"regular_cust\"\n",
    "    elif x >=33:\n",
    "        return \"outliers\"\n",
    "    else:\n",
    "        return 'others'\n",
    "        \n",
    "train.loc[(~train['time_between_orders_mode'].isna()),'time_between_orders_mode_bins'] = \\\n",
    "    train.loc[(~train['time_between_orders_mode'].isna()),'time_between_orders_mode'].apply(mode_bins)\n",
    "\n",
    "test.loc[(~test['time_between_orders_mode'].isna()),'time_between_orders_mode_bins'] = \\\n",
    "    test.loc[(~test['time_between_orders_mode'].isna()),'time_between_orders_mode'].apply(mode_bins)\n",
    "\n",
    "print(train['time_between_orders_mode_bins'].value_counts(), test['time_between_orders_mode_bins'].value_counts())"
   ]
  },
  {
   "cell_type": "code",
   "execution_count": 14,
   "metadata": {},
   "outputs": [],
   "source": [
    "### Capping obs in training \n",
    "# Outliers can significantly bias coef estimates/models \n",
    "# We use a simple technique to find outliers: Looking at observations in TRAIN we find the 99th percentile of globals obs and cap them \n",
    "# A more complex model at the customer/or a customer grouping level can and should be considered by students!\n",
    "# Note: We only want to cap outliers in train. Since we are doing a grid search and further dividing the train dataset into train & val, we will only cap train outliers\n",
    "# If we cap val outliers we might get an optimistic estimate of generalization error \n",
    "# With k-folds and k > 1, this becomes a more complex pipeline.\n",
    "train['val_date'] = train.groupby('Member')['Created On'].transform('max')\n",
    "val = train[train['val_date']==train['Created On']]\n",
    "train = train[train['val_date']!=train['Created On']]\n",
    "\n"
   ]
  },
  {
   "cell_type": "code",
   "execution_count": 15,
   "metadata": {},
   "outputs": [
    {
     "data": {
      "text/plain": [
       "((8069, 45), (106, 45), (106, 44))"
      ]
     },
     "execution_count": 15,
     "metadata": {},
     "output_type": "execute_result"
    }
   ],
   "source": [
    "train.shape, val.shape, test.shape"
   ]
  },
  {
   "cell_type": "code",
   "execution_count": 16,
   "metadata": {},
   "outputs": [
    {
     "name": "stdout",
     "output_type": "stream",
     "text": [
      "count    8069.000000\n",
      "mean        9.260875\n",
      "std        11.940284\n",
      "min         0.000000\n",
      "25%         5.000000\n",
      "50%         7.000000\n",
      "75%        10.000000\n",
      "max       426.000000\n",
      "Name: time_last_purchase, dtype: float64\n"
     ]
    },
    {
     "data": {
      "text/plain": [
       "array([24.  , 49.32, 63.66])"
      ]
     },
     "execution_count": 16,
     "metadata": {},
     "output_type": "execute_result"
    }
   ],
   "source": [
    "# Outliers in features: 'time_between_orders_mode'\n",
    "print(train['time_last_purchase'].describe())\n",
    "\n",
    "np.quantile(train['time_last_purchase'],q=[0.95,0.99,0.995])"
   ]
  },
  {
   "cell_type": "code",
   "execution_count": 17,
   "metadata": {},
   "outputs": [],
   "source": [
    "# We cap at 50. \n",
    "y_var_cap = 50\n",
    "\n",
    "train['time_last_purchase'] = train['time_last_purchase'].apply(lambda x: min(x,y_var_cap))\n"
   ]
  },
  {
   "cell_type": "code",
   "execution_count": 18,
   "metadata": {},
   "outputs": [
    {
     "data": {
      "text/plain": [
       "338"
      ]
     },
     "execution_count": 18,
     "metadata": {},
     "output_type": "execute_result"
    }
   ],
   "source": [
    "# ###################################################\n",
    "# xgb_sklearn_params = {'n_estimators': [5000],\n",
    "#               'learning_rate' : [0.1],\n",
    "#               'objective' : [\"reg:squarederror\"],\n",
    "#               'eval_metric' : ['mae'],\n",
    "#               'max_depth' : [1,3,5],\n",
    "#               'subsample' : [1,0.8],\n",
    "#               'colsample_bytree':[1],\n",
    "#              'type':['xgb_sklearn'],\n",
    "#              'transformations':['none','std'],\n",
    "#              'missing_values' : ['none']}\n",
    "# hyperparams_xgb_sklearn = create_hyperparam_object(xgb_sklearn_params)\n",
    "# #######################################################\n",
    "xgb_params = { 'booster' : ['dart','gbtree'],\n",
    "              'num_boost_round': [5000],\n",
    "              'eta' : [0.05,0.1],\n",
    "              'objective' : [\"reg:squarederror\"],\n",
    "              'eval_metric' : ['mae'],\n",
    "              'max_depth' : [1,3,4,5],\n",
    "              'subsample' : [1,0.8],\n",
    "              'colsample_bytree':[1],\n",
    "              'gamma' : [0,0.001],\n",
    "             'type':['xgboost'],\n",
    "             'transformations':['none','std'],\n",
    "             'missing_values' : ['none']}\n",
    "\n",
    "\n",
    "hyperparams_xgb = list(ParameterGrid(xgb_params))\n",
    "\n",
    "en_params = {'l1_ratio': [0,0.25,0.5,0.75,1.0],\n",
    "                     'alpha': list(np.logspace(-3,1,15)), #[0.01, 0.05,0.1,0.2],\n",
    "                     'normalize' : [True,False],\n",
    "                    'transformations':['none','std'],\n",
    "                     'type':['elasticnet'],\n",
    "            'missing_values' : ['fill0']}\n",
    "\n",
    "hyperparams_en = list(ParameterGrid(en_params))\n",
    "hyperparams_en = [x for x in hyperparams_en if (x['transformations'] != 'None')&(x['normalize']==True) == False]\n",
    "\n",
    "\n",
    "plr_params = {'alpha': list(np.logspace(-3,1,15)),\n",
    "                     'fit_intercept' : [True,False],\n",
    "                      'transformations':['none','std'],\n",
    "                     'type':['poisson'],\n",
    "             'missing_values' : ['fill0']}\n",
    "hyperparams_plr = list(ParameterGrid(plr_params))\n",
    "\n",
    "# glr_params = {'alpha': list(np.logspace(-3,1,15)),\n",
    "#                      'fit_intercept' : [True,False],\n",
    "#                       'transformations':['none','std'],\n",
    "#                      'type':['gamma'],\n",
    "#              'missing_values' : ['fill0']}\n",
    "# hyperparams_glr = list(ParameterGrid(glr_params))\n",
    "\n",
    "# selected_xgb = np.random.choice(list(range(len(hyperparams_xgb))) , 5, replace=False)\n",
    "#hyperparams_xgb_sklearn+ [x for idx, x in enumerate(hyperparams_xgb) if idx in selected_xgb]\\\n",
    "hyperparams = hyperparams_en + hyperparams_plr + hyperparams_xgb ##hyperparams_glr \n",
    "\n",
    "len(hyperparams)"
   ]
  },
  {
   "cell_type": "code",
   "execution_count": 19,
   "metadata": {},
   "outputs": [
    {
     "name": "stdout",
     "output_type": "stream",
     "text": [
      "['x0_high_velocity_cust', 'x0_missing', 'x0_others', 'x0_outliers', 'x0_regular_cust', 'x0_weekly_cust']\n"
     ]
    }
   ],
   "source": [
    "# Encoding based on train categories\n",
    "# Note: talk about hash encoding \n",
    "encoding = OneHotEncoder()\n",
    "train['time_between_orders_mode_bins'] = train['time_between_orders_mode_bins'].fillna('missing')\n",
    "encoding.fit(train[['time_between_orders_mode_bins']])\n",
    "columns = encoding.get_feature_names().tolist()\n",
    "print(columns)\n",
    "train = train.reset_index(drop=True)\n",
    "val = val.reset_index(drop=True)\n",
    "test = test.reset_index(drop=True)\n",
    "train = pd.concat([train,pd.DataFrame(encoding.transform(train[['time_between_orders_mode_bins']]).todense(),columns = columns)],axis=1)\n",
    "val = pd.concat([val,pd.DataFrame(encoding.transform(val[['time_between_orders_mode_bins']]).todense(),columns = columns)],axis=1)\n",
    "test = pd.concat([test,pd.DataFrame(encoding.transform(test[['time_between_orders_mode_bins']]).todense(),columns = columns)],axis=1)"
   ]
  },
  {
   "cell_type": "code",
   "execution_count": 20,
   "metadata": {},
   "outputs": [],
   "source": [
    "train.loc[~train['small_prev_basket'].isna(),'small_prev_basket'] = train.loc[~train['small_prev_basket'].isna(),'small_prev_basket'].astype(int)\n",
    "test.loc[~test['small_prev_basket'].isna(),'small_prev_basket'] = test.loc[~test['small_prev_basket'].isna(),'small_prev_basket'].astype(int)\n",
    "val.loc[~val['small_prev_basket'].isna(),'small_prev_basket'] = val.loc[~val['small_prev_basket'].isna(),'small_prev_basket'].astype(int)\n",
    "\n",
    "# train['small_prev_basket'] = train['small_prev_basket'].fillna(-1)\n",
    "# test['small_prev_basket'] = test['small_prev_basket'].fillna(-1)\n",
    "# val['small_prev_basket'] = val['small_prev_basket'].fillna(-1)"
   ]
  },
  {
   "cell_type": "code",
   "execution_count": 21,
   "metadata": {},
   "outputs": [],
   "source": [
    "# Filling in missing\n",
    "# train['most_common_sku_in_prev_order'] = train['most_common_sku_in_prev_order'].fillna(-1)\n",
    "# test['most_common_sku_in_prev_order'] = test['most_common_sku_in_prev_order'].fillna(-1)\n",
    "# val['most_common_sku_in_prev_order'] = val['most_common_sku_in_prev_order'].fillna(-1)"
   ]
  },
  {
   "cell_type": "code",
   "execution_count": 22,
   "metadata": {},
   "outputs": [
    {
     "data": {
      "text/plain": [
       "1    4099\n",
       "0    3970\n",
       "Name: small_prev_basket, dtype: int64"
      ]
     },
     "execution_count": 22,
     "metadata": {},
     "output_type": "execute_result"
    }
   ],
   "source": [
    "train['small_prev_basket'].value_counts()"
   ]
  },
  {
   "cell_type": "code",
   "execution_count": 23,
   "metadata": {},
   "outputs": [],
   "source": [
    "y_var = 'time_last_purchase'\n",
    "numeric_features = ['L1_in_prev_order_cat_pcent','L1_in_prev_order_pcent', 'L1_time_last_purchase', 'L2_in_prev_order_cat_pcent', 'L2_in_prev_order_pcent', 'L2_time_last_purchase', \n",
    "'L3_in_prev_order_cat_pcent', 'L3_in_prev_order_pcent', 'L3_time_last_purchase', 'avg_SKU', 'avg_in_prev_order_cat_pcent', 'avg_in_prev_order_pcent', \n",
    "'avg_time_last_purchase', 'time_between_orders_mode', 'time_last_purchase_slope']\n",
    "non_numeric_features = ['small_prev_basket'] + columns"
   ]
  },
  {
   "cell_type": "code",
   "execution_count": 24,
   "metadata": {},
   "outputs": [
    {
     "data": {
      "text/plain": [
       "((8069, 51), (106, 51), (106, 50))"
      ]
     },
     "execution_count": 24,
     "metadata": {},
     "output_type": "execute_result"
    }
   ],
   "source": [
    "# We employ a simple strategy for filling in missing data - removing the obs. \n",
    "# Since all customers have fairly long histories, we don't expect this to bias out test error since all features there should be available\n",
    "# However, in real world scenarios we will have new customers in these datasets, and for them many of the features we've created here would be missing\n",
    "# We would need to either segment and build a seperate model for them, or use more complex missing feature strategies \n",
    "train.shape, val.shape, test.shape"
   ]
  },
  {
   "cell_type": "code",
   "execution_count": 25,
   "metadata": {},
   "outputs": [
    {
     "name": "stdout",
     "output_type": "stream",
     "text": [
      "Param 1 of 338\n",
      "Param 11 of 338\n",
      "Param 21 of 338\n",
      "Param 31 of 338\n",
      "Param 41 of 338\n",
      "Param 51 of 338\n",
      "Param 61 of 338\n",
      "Param 71 of 338\n",
      "Param 81 of 338\n",
      "Param 91 of 338\n",
      "Param 101 of 338\n",
      "Param 111 of 338\n",
      "Param 121 of 338\n",
      "Param 131 of 338\n",
      "Param 141 of 338\n",
      "Param 151 of 338\n",
      "Param 161 of 338\n",
      "Param 171 of 338\n",
      "Param 181 of 338\n",
      "Param 191 of 338\n",
      "Param 201 of 338\n",
      "Param 211 of 338\n",
      "Param 221 of 338\n",
      "Param 231 of 338\n",
      "Param 241 of 338\n",
      "Param 251 of 338\n",
      "Param 261 of 338\n",
      "Param 271 of 338\n",
      "Param 281 of 338\n",
      "Param 291 of 338\n",
      "Param 301 of 338\n",
      "Param 311 of 338\n",
      "Param 321 of 338\n",
      "Param 331 of 338\n"
     ]
    }
   ],
   "source": [
    "grid_search_results = forecasting_grid_search(train = train[(train[numeric_features + non_numeric_features].isna().sum(axis=1)==0)],\n",
    "                            val = val,\n",
    "                            hyperparams = hyperparams,\n",
    "                            y_var = y_var,\n",
    "                            numeric_features = numeric_features,\n",
    "                            categorical_features = non_numeric_features,\n",
    "                            weights = None,\n",
    "                            metrics = ['forecasting_score','mae','r2','rmse'])"
   ]
  },
  {
   "cell_type": "code",
   "execution_count": 26,
   "metadata": {},
   "outputs": [],
   "source": [
    "sorted_res = rank_grid_search_results(results = grid_search_results, \\\n",
    "                                              rank_by_metric = 'rmse', greater_is_better = False, return_top=False)"
   ]
  },
  {
   "cell_type": "code",
   "execution_count": 27,
   "metadata": {},
   "outputs": [
    {
     "data": {
      "text/plain": [
       "({'booster': 'dart',\n",
       "  'colsample_bytree': 1,\n",
       "  'eta': 0.1,\n",
       "  'eval_metric': 'mae',\n",
       "  'gamma': 0,\n",
       "  'max_depth': 3,\n",
       "  'missing_values': 'none',\n",
       "  'num_boost_round': 159,\n",
       "  'objective': 'reg:squarederror',\n",
       "  'subsample': 0.8,\n",
       "  'transformations': 'none',\n",
       "  'type': 'xgboost'},\n",
       " {'forecasting_score': 0.738993710691824,\n",
       "  'mae': 4.23112553920386,\n",
       "  'r2': 0.3696715420598169,\n",
       "  'rmse': 6.726421621262841})"
      ]
     },
     "execution_count": 27,
     "metadata": {},
     "output_type": "execute_result"
    }
   ],
   "source": [
    "error, best_params = rank_grid_search_results(results = grid_search_results, \\\n",
    "                                              rank_by_metric = 'rmse', greater_is_better = False)\n",
    "best_params, error"
   ]
  },
  {
   "cell_type": "code",
   "execution_count": 28,
   "metadata": {},
   "outputs": [],
   "source": [
    "# Now that we've decided upon our hyperparameters, we will cap the validation data as well, and use both to create a model to predict next order date\n",
    "final_train = train.append(val)\n",
    "final_train['time_last_purchase'] = final_train['time_last_purchase'].apply(lambda x: min(x,y_var_cap))\n",
    "final_model = final_model_obj(train = final_train[(final_train[numeric_features + non_numeric_features].isna().sum(axis=1)==0)],\n",
    "                              test = test,\n",
    "                              best_params = best_params,\n",
    "                              y_var = y_var,\n",
    "                              numeric_features =numeric_features,\n",
    "                              categorical_features = non_numeric_features,\n",
    "                              weights = None)"
   ]
  },
  {
   "cell_type": "code",
   "execution_count": 29,
   "metadata": {},
   "outputs": [
    {
     "data": {
      "text/plain": [
       "<AxesSubplot:title={'center':'Feature importance'}, xlabel='F score', ylabel='Features'>"
      ]
     },
     "execution_count": 29,
     "metadata": {},
     "output_type": "execute_result"
    },
    {
     "data": {
      "image/png": "[encoded data removed]",
      "text/plain": [
       "<Figure size 432x288 with 1 Axes>"
      ]
     },
     "metadata": {
      "needs_background": "light"
     },
     "output_type": "display_data"
    }
   ],
   "source": [
    "# Ways in which XGB measures feature importance\n",
    "xgb.plot_importance(final_model)"
   ]
  },
  {
   "cell_type": "code",
   "execution_count": 30,
   "metadata": {},
   "outputs": [],
   "source": [
    "#train[train['Member'].isin(test.loc[test['time_last_purchase']>30,'Member'].unique())].groupby('Member')['time_last_purchase'].median(),train[train['Member'].isin(test.loc[test['time_last_purchase']>30,'Member'].unique())].groupby('Member')['time_last_purchase'].mean()"
   ]
  },
  {
   "cell_type": "code",
   "execution_count": 31,
   "metadata": {},
   "outputs": [
    {
     "name": "stdout",
     "output_type": "stream",
     "text": [
      "Train forecasting_score : 0.7133341818336092\n",
      "Train mae : 3.494508016939395\n",
      "Train r2 : 0.44029840110609064\n",
      "Train rmse : 5.615531027236797\n",
      "Train forecasting_report :  2    0.353061\n",
      " 1    0.335242\n",
      "-1    0.179331\n",
      " 0    0.132366\n",
      "Name: time_last_purchase, dtype: float64\n",
      "Test forecasting_score : 0.6823899371069183\n",
      "Test mae : 7.223606878856443\n",
      "Test r2 : -0.023740628129482744\n",
      "Test rmse : 20.674162757517106\n",
      "Test forecasting_report :  2    0.358491\n",
      " 1    0.283019\n",
      "-1    0.188679\n",
      " 0    0.169811\n",
      "Name: time_last_purchase, dtype: float64\n"
     ]
    }
   ],
   "source": [
    "# Test error is extremely high! But a majority of that comes from the outliers \n",
    "test_predictions = predict_and_score(final_model, final_train[final_train[numeric_features+ non_numeric_features].isna().sum(axis=1)==0], test,y_var, best_params, metrics = ['forecasting_score','mae','r2','rmse','forecasting_report'],\\\n",
    "    numeric_features = numeric_features, categorical_features = non_numeric_features,verbose = True)"
   ]
  },
  {
   "cell_type": "code",
   "execution_count": 32,
   "metadata": {},
   "outputs": [
    {
     "data": {
      "text/html": [
       "<div>\n",
       "<style scoped>\n",
       "    .dataframe tbody tr th:only-of-type {\n",
       "        vertical-align: middle;\n",
       "    }\n",
       "\n",
       "    .dataframe tbody tr th {\n",
       "        vertical-align: top;\n",
       "    }\n",
       "\n",
       "    .dataframe thead th {\n",
       "        text-align: right;\n",
       "    }\n",
       "</style>\n",
       "<table border=\"1\" class=\"dataframe\">\n",
       "  <thead>\n",
       "    <tr style=\"text-align: right;\">\n",
       "      <th></th>\n",
       "      <th>is_outlier</th>\n",
       "      <th>cust_count</th>\n",
       "      <th>0</th>\n",
       "    </tr>\n",
       "  </thead>\n",
       "  <tbody>\n",
       "    <tr>\n",
       "      <th>0</th>\n",
       "      <td>False</td>\n",
       "      <td>102</td>\n",
       "      <td>5.495988</td>\n",
       "    </tr>\n",
       "    <tr>\n",
       "      <th>1</th>\n",
       "      <td>True</td>\n",
       "      <td>4</td>\n",
       "      <td>102.970870</td>\n",
       "    </tr>\n",
       "  </tbody>\n",
       "</table>\n",
       "</div>"
      ],
      "text/plain": [
       "   is_outlier  cust_count           0\n",
       "0       False         102    5.495988\n",
       "1        True           4  102.970870"
      ]
     },
     "metadata": {},
     "output_type": "display_data"
    },
    {
     "data": {
      "text/html": [
       "<div>\n",
       "<style scoped>\n",
       "    .dataframe tbody tr th:only-of-type {\n",
       "        vertical-align: middle;\n",
       "    }\n",
       "\n",
       "    .dataframe tbody tr th {\n",
       "        vertical-align: top;\n",
       "    }\n",
       "\n",
       "    .dataframe thead th {\n",
       "        text-align: right;\n",
       "    }\n",
       "</style>\n",
       "<table border=\"1\" class=\"dataframe\">\n",
       "  <thead>\n",
       "    <tr style=\"text-align: right;\">\n",
       "      <th></th>\n",
       "      <th>time_last_purchase_bin</th>\n",
       "      <th>cust_count</th>\n",
       "      <th>0</th>\n",
       "    </tr>\n",
       "  </thead>\n",
       "  <tbody>\n",
       "    <tr>\n",
       "      <th>0</th>\n",
       "      <td>high_velocity_cust</td>\n",
       "      <td>7</td>\n",
       "      <td>6.000000</td>\n",
       "    </tr>\n",
       "    <tr>\n",
       "      <th>1</th>\n",
       "      <td>others</td>\n",
       "      <td>44</td>\n",
       "      <td>6.388911</td>\n",
       "    </tr>\n",
       "    <tr>\n",
       "      <th>2</th>\n",
       "      <td>outliers</td>\n",
       "      <td>4</td>\n",
       "      <td>102.970870</td>\n",
       "    </tr>\n",
       "    <tr>\n",
       "      <th>3</th>\n",
       "      <td>regular_cust</td>\n",
       "      <td>11</td>\n",
       "      <td>8.174239</td>\n",
       "    </tr>\n",
       "    <tr>\n",
       "      <th>4</th>\n",
       "      <td>weekly_cust</td>\n",
       "      <td>40</td>\n",
       "      <td>2.729469</td>\n",
       "    </tr>\n",
       "  </tbody>\n",
       "</table>\n",
       "</div>"
      ],
      "text/plain": [
       "  time_last_purchase_bin  cust_count           0\n",
       "0     high_velocity_cust           7    6.000000\n",
       "1                 others          44    6.388911\n",
       "2               outliers           4  102.970870\n",
       "3           regular_cust          11    8.174239\n",
       "4            weekly_cust          40    2.729469"
      ]
     },
     "metadata": {},
     "output_type": "display_data"
    },
    {
     "data": {
      "text/html": [
       "<div>\n",
       "<style scoped>\n",
       "    .dataframe tbody tr th:only-of-type {\n",
       "        vertical-align: middle;\n",
       "    }\n",
       "\n",
       "    .dataframe tbody tr th {\n",
       "        vertical-align: top;\n",
       "    }\n",
       "\n",
       "    .dataframe thead th {\n",
       "        text-align: right;\n",
       "    }\n",
       "</style>\n",
       "<table border=\"1\" class=\"dataframe\">\n",
       "  <thead>\n",
       "    <tr style=\"text-align: right;\">\n",
       "      <th></th>\n",
       "      <th>time_last_purchase_grps</th>\n",
       "      <th>cust_count</th>\n",
       "      <th>0</th>\n",
       "    </tr>\n",
       "  </thead>\n",
       "  <tbody>\n",
       "    <tr>\n",
       "      <th>0</th>\n",
       "      <td>0.0</td>\n",
       "      <td>14</td>\n",
       "      <td>4.636809</td>\n",
       "    </tr>\n",
       "    <tr>\n",
       "      <th>1</th>\n",
       "      <td>1.0</td>\n",
       "      <td>52</td>\n",
       "      <td>3.830545</td>\n",
       "    </tr>\n",
       "    <tr>\n",
       "      <th>2</th>\n",
       "      <td>2.0</td>\n",
       "      <td>21</td>\n",
       "      <td>4.561746</td>\n",
       "    </tr>\n",
       "    <tr>\n",
       "      <th>3</th>\n",
       "      <td>3.0</td>\n",
       "      <td>6</td>\n",
       "      <td>5.627314</td>\n",
       "    </tr>\n",
       "    <tr>\n",
       "      <th>4</th>\n",
       "      <td>4.0</td>\n",
       "      <td>3</td>\n",
       "      <td>13.441230</td>\n",
       "    </tr>\n",
       "    <tr>\n",
       "      <th>5</th>\n",
       "      <td>5.0</td>\n",
       "      <td>5</td>\n",
       "      <td>11.653326</td>\n",
       "    </tr>\n",
       "    <tr>\n",
       "      <th>6</th>\n",
       "      <td>6.0</td>\n",
       "      <td>5</td>\n",
       "      <td>92.283260</td>\n",
       "    </tr>\n",
       "  </tbody>\n",
       "</table>\n",
       "</div>"
      ],
      "text/plain": [
       "   time_last_purchase_grps  cust_count          0\n",
       "0                      0.0          14   4.636809\n",
       "1                      1.0          52   3.830545\n",
       "2                      2.0          21   4.561746\n",
       "3                      3.0           6   5.627314\n",
       "4                      4.0           3  13.441230\n",
       "5                      5.0           5  11.653326\n",
       "6                      6.0           5  92.283260"
      ]
     },
     "metadata": {},
     "output_type": "display_data"
    }
   ],
   "source": [
    "# Let's compute error by buckets\n",
    "test['predict'] = test_predictions\n",
    "\n",
    "# Let's round off the prediction and bucket on the basic of time since last purchase and predict for each group\n",
    "test['predict'] = test['predict'].round(0)\n",
    "\n",
    "# Outliers vs all others\n",
    "test['is_outlier'] = test['time_last_purchase'].apply(lambda x: x>y_var_cap)\n",
    "test['cust_count'] = test.groupby('is_outlier')['Member'].transform('count')\n",
    "display(test.groupby(['is_outlier','cust_count']).apply(lambda x: mean_squared_error(x['time_last_purchase'],x['predict'], squared=False)).reset_index(drop=False))\n",
    "\n",
    "\n",
    "# Based on logical bins\n",
    "test['time_last_purchase_bin'] = test['time_last_purchase'].apply(mode_bins)\n",
    "test['cust_count'] = test.groupby('time_last_purchase_bin')['Member'].transform('count')\n",
    "display(test.groupby(['time_last_purchase_bin','cust_count']).apply(lambda x: mean_squared_error(x['time_last_purchase'],x['predict'], squared=False)).reset_index(drop=False))\n",
    "\n",
    "# Based on bins of 5 till 30 days\n",
    "test['time_last_purchase_grps'] = test['time_last_purchase'].apply(lambda x: x//5)\n",
    "test['time_last_purchase_grps'] = test['time_last_purchase_grps'].apply(lambda x: min(x,6))\n",
    "test['cust_count'] = test.groupby('time_last_purchase_grps')['Member'].transform('count')\n",
    "\n",
    "display(test.groupby(['time_last_purchase_grps','cust_count']).apply(lambda x: mean_squared_error(x['time_last_purchase'],x['predict'], squared=False)).reset_index(drop=False))\n"
   ]
  },
  {
   "cell_type": "code",
   "execution_count": 33,
   "metadata": {},
   "outputs": [
    {
     "data": {
      "text/html": [
       "<div>\n",
       "<style scoped>\n",
       "    .dataframe tbody tr th:only-of-type {\n",
       "        vertical-align: middle;\n",
       "    }\n",
       "\n",
       "    .dataframe tbody tr th {\n",
       "        vertical-align: top;\n",
       "    }\n",
       "\n",
       "    .dataframe thead th {\n",
       "        text-align: right;\n",
       "    }\n",
       "</style>\n",
       "<table border=\"1\" class=\"dataframe\">\n",
       "  <thead>\n",
       "    <tr style=\"text-align: right;\">\n",
       "      <th></th>\n",
       "      <th>test</th>\n",
       "      <th>0</th>\n",
       "    </tr>\n",
       "  </thead>\n",
       "  <tbody>\n",
       "    <tr>\n",
       "      <th>0</th>\n",
       "      <td>True</td>\n",
       "      <td>21.383515</td>\n",
       "    </tr>\n",
       "  </tbody>\n",
       "</table>\n",
       "</div>"
      ],
      "text/plain": [
       "   test          0\n",
       "0  True  21.383515"
      ]
     },
     "metadata": {},
     "output_type": "display_data"
    },
    {
     "data": {
      "text/html": [
       "<div>\n",
       "<style scoped>\n",
       "    .dataframe tbody tr th:only-of-type {\n",
       "        vertical-align: middle;\n",
       "    }\n",
       "\n",
       "    .dataframe tbody tr th {\n",
       "        vertical-align: top;\n",
       "    }\n",
       "\n",
       "    .dataframe thead th {\n",
       "        text-align: right;\n",
       "    }\n",
       "</style>\n",
       "<table border=\"1\" class=\"dataframe\">\n",
       "  <thead>\n",
       "    <tr style=\"text-align: right;\">\n",
       "      <th></th>\n",
       "      <th>is_outlier</th>\n",
       "      <th>cust_count</th>\n",
       "      <th>0</th>\n",
       "    </tr>\n",
       "  </thead>\n",
       "  <tbody>\n",
       "    <tr>\n",
       "      <th>0</th>\n",
       "      <td>False</td>\n",
       "      <td>102</td>\n",
       "      <td>7.014690</td>\n",
       "    </tr>\n",
       "    <tr>\n",
       "      <th>1</th>\n",
       "      <td>True</td>\n",
       "      <td>4</td>\n",
       "      <td>104.223318</td>\n",
       "    </tr>\n",
       "  </tbody>\n",
       "</table>\n",
       "</div>"
      ],
      "text/plain": [
       "   is_outlier  cust_count           0\n",
       "0       False         102    7.014690\n",
       "1        True           4  104.223318"
      ]
     },
     "metadata": {},
     "output_type": "display_data"
    },
    {
     "data": {
      "text/html": [
       "<div>\n",
       "<style scoped>\n",
       "    .dataframe tbody tr th:only-of-type {\n",
       "        vertical-align: middle;\n",
       "    }\n",
       "\n",
       "    .dataframe tbody tr th {\n",
       "        vertical-align: top;\n",
       "    }\n",
       "\n",
       "    .dataframe thead th {\n",
       "        text-align: right;\n",
       "    }\n",
       "</style>\n",
       "<table border=\"1\" class=\"dataframe\">\n",
       "  <thead>\n",
       "    <tr style=\"text-align: right;\">\n",
       "      <th></th>\n",
       "      <th>time_last_purchase_bin</th>\n",
       "      <th>cust_count</th>\n",
       "      <th>0</th>\n",
       "    </tr>\n",
       "  </thead>\n",
       "  <tbody>\n",
       "    <tr>\n",
       "      <th>0</th>\n",
       "      <td>high_velocity_cust</td>\n",
       "      <td>7</td>\n",
       "      <td>12.340410</td>\n",
       "    </tr>\n",
       "    <tr>\n",
       "      <th>1</th>\n",
       "      <td>others</td>\n",
       "      <td>44</td>\n",
       "      <td>7.687061</td>\n",
       "    </tr>\n",
       "    <tr>\n",
       "      <th>2</th>\n",
       "      <td>outliers</td>\n",
       "      <td>4</td>\n",
       "      <td>104.223318</td>\n",
       "    </tr>\n",
       "    <tr>\n",
       "      <th>3</th>\n",
       "      <td>regular_cust</td>\n",
       "      <td>11</td>\n",
       "      <td>9.634219</td>\n",
       "    </tr>\n",
       "    <tr>\n",
       "      <th>4</th>\n",
       "      <td>weekly_cust</td>\n",
       "      <td>40</td>\n",
       "      <td>2.880972</td>\n",
       "    </tr>\n",
       "  </tbody>\n",
       "</table>\n",
       "</div>"
      ],
      "text/plain": [
       "  time_last_purchase_bin  cust_count           0\n",
       "0     high_velocity_cust           7   12.340410\n",
       "1                 others          44    7.687061\n",
       "2               outliers           4  104.223318\n",
       "3           regular_cust          11    9.634219\n",
       "4            weekly_cust          40    2.880972"
      ]
     },
     "metadata": {},
     "output_type": "display_data"
    },
    {
     "data": {
      "text/html": [
       "<div>\n",
       "<style scoped>\n",
       "    .dataframe tbody tr th:only-of-type {\n",
       "        vertical-align: middle;\n",
       "    }\n",
       "\n",
       "    .dataframe tbody tr th {\n",
       "        vertical-align: top;\n",
       "    }\n",
       "\n",
       "    .dataframe thead th {\n",
       "        text-align: right;\n",
       "    }\n",
       "</style>\n",
       "<table border=\"1\" class=\"dataframe\">\n",
       "  <thead>\n",
       "    <tr style=\"text-align: right;\">\n",
       "      <th></th>\n",
       "      <th>time_last_purchase_grps</th>\n",
       "      <th>cust_count</th>\n",
       "      <th>0</th>\n",
       "    </tr>\n",
       "  </thead>\n",
       "  <tbody>\n",
       "    <tr>\n",
       "      <th>0</th>\n",
       "      <td>0.0</td>\n",
       "      <td>14</td>\n",
       "      <td>9.323549</td>\n",
       "    </tr>\n",
       "    <tr>\n",
       "      <th>1</th>\n",
       "      <td>1.0</td>\n",
       "      <td>52</td>\n",
       "      <td>4.582576</td>\n",
       "    </tr>\n",
       "    <tr>\n",
       "      <th>2</th>\n",
       "      <td>2.0</td>\n",
       "      <td>21</td>\n",
       "      <td>5.367450</td>\n",
       "    </tr>\n",
       "    <tr>\n",
       "      <th>3</th>\n",
       "      <td>3.0</td>\n",
       "      <td>6</td>\n",
       "      <td>6.855655</td>\n",
       "    </tr>\n",
       "    <tr>\n",
       "      <th>4</th>\n",
       "      <td>4.0</td>\n",
       "      <td>3</td>\n",
       "      <td>15.673757</td>\n",
       "    </tr>\n",
       "    <tr>\n",
       "      <th>5</th>\n",
       "      <td>5.0</td>\n",
       "      <td>5</td>\n",
       "      <td>14.676512</td>\n",
       "    </tr>\n",
       "    <tr>\n",
       "      <th>6</th>\n",
       "      <td>6.0</td>\n",
       "      <td>5</td>\n",
       "      <td>93.229824</td>\n",
       "    </tr>\n",
       "  </tbody>\n",
       "</table>\n",
       "</div>"
      ],
      "text/plain": [
       "   time_last_purchase_grps  cust_count          0\n",
       "0                      0.0          14   9.323549\n",
       "1                      1.0          52   4.582576\n",
       "2                      2.0          21   5.367450\n",
       "3                      3.0           6   6.855655\n",
       "4                      4.0           3  15.673757\n",
       "5                      5.0           5  14.676512\n",
       "6                      6.0           5  93.229824"
      ]
     },
     "metadata": {},
     "output_type": "display_data"
    }
   ],
   "source": [
    "### Baseline: used the mode of the customer in train to predict the next order\n",
    "if 'baseline_prediction' in test.columns:\n",
    "    test=test.drop(columns = ['baseline_prediction'])\n",
    "    \n",
    "baseline = val[['Member','time_between_orders_mode']]\n",
    "baseline.rename(columns = {'time_between_orders_mode':'baseline_prediction'},inplace=True)\n",
    "test = test.merge(baseline, on = ['Member'],how='left')\n",
    "\n",
    "display(test.groupby('test').apply(lambda x: mean_squared_error(x['time_last_purchase'],x['baseline_prediction'],squared=False)).reset_index(drop=False))\n",
    "\n",
    "# Outliers vs all others\n",
    "test['cust_count'] = test.groupby('is_outlier')['Member'].transform('count')\n",
    "display(test.groupby(['is_outlier','cust_count']).apply(lambda x: mean_squared_error(x['time_last_purchase'],x['baseline_prediction'], squared=False)).reset_index(drop=False))\n",
    "\n",
    "\n",
    "# Based on logical bins\n",
    "test['cust_count'] = test.groupby('time_last_purchase_bin')['Member'].transform('count')\n",
    "display(test.groupby(['time_last_purchase_bin','cust_count']).apply(lambda x: mean_squared_error(x['time_last_purchase'],x['baseline_prediction'], squared=False)).reset_index(drop=False))\n",
    "\n",
    "# Based on bins of 5 till 30 days\n",
    "test['cust_count'] = test.groupby('time_last_purchase_grps')['Member'].transform('count')\n",
    "\n",
    "display(test.groupby(['time_last_purchase_grps','cust_count']).apply(lambda x: mean_squared_error(x['time_last_purchase'],x['baseline_prediction'], squared=False)).reset_index(drop=False))\n"
   ]
  },
  {
   "cell_type": "code",
   "execution_count": 34,
   "metadata": {},
   "outputs": [],
   "source": [
    "# Error analysis <- Done\n",
    "# Outliers <- Done (kinda)\n",
    "# Adding features <- Done\n",
    "# Forecasting/Customer segmentation <- to do. \n",
    "# Feature selection <- Implicit. \n",
    "# most frequent sku not in last order bool <- Added. Not useful. \n",
    "# cluster by mode of customer <- Segmentation. Not Done. \n"
   ]
  },
  {
   "cell_type": "code",
   "execution_count": null,
   "metadata": {},
   "outputs": [],
   "source": []
  },
  {
   "cell_type": "code",
   "execution_count": null,
   "metadata": {},
   "outputs": [],
   "source": []
  }
 ],
 "metadata": {
  "kernelspec": {
   "display_name": "Python 3",
   "language": "python",
   "name": "python3"
  },
  "language_info": {
   "codemirror_mode": {
    "name": "ipython",
    "version": 3
   },
   "file_extension": ".py",
   "mimetype": "text/x-python",
   "name": "python",
   "nbconvert_exporter": "python",
   "pygments_lexer": "ipython3",
   "version": "3.8.5"
  }
 },
 "nbformat": 4,
 "nbformat_minor": 4
}
